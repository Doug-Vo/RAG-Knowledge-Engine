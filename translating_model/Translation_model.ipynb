{
  "nbformat": 4,
  "nbformat_minor": 0,
  "metadata": {
    "colab": {
      "provenance": [],
      "authorship_tag": "ABX9TyO+0r5f7ubXnMakGmQgwOTY",
      "include_colab_link": true
    },
    "kernelspec": {
      "name": "python3",
      "display_name": "Python 3"
    },
    "language_info": {
      "name": "python"
    }
  },
  "cells": [
    {
      "cell_type": "markdown",
      "metadata": {
        "id": "view-in-github",
        "colab_type": "text"
      },
      "source": [
        "<a href=\"https://colab.research.google.com/github/Doug-Vo/Translation-Project/blob/main/Translation_model.ipynb\" target=\"_parent\"><img src=\"https://colab.research.google.com/assets/colab-badge.svg\" alt=\"Open In Colab\"/></a>"
      ]
    },
    {
      "cell_type": "markdown",
      "source": [
        "# For this Project, we are looking at models that can translate Finnish to English reliably, and for that, we chose:\n",
        "\n",
        "\n",
        "*   [Helsinki-NLP/opus-mt-fi-en](https://huggingface.co/Helsinki-NLP/opus-mt-fi-en) (HugginFace)\n",
        "*   [googletrans 4.0.2](https://pypi.org/project/googletrans/) (PyPi)\n",
        "\n",
        "\n",
        "Both offer great translations, with [googletrans 4.0.2](https://pypi.org/project/googletrans/) (PyPi) having a higher grammatical accuracy but also recieve several unknown errors\n"
      ],
      "metadata": {
        "id": "XjqIw-q0welS"
      }
    },
    {
      "cell_type": "code",
      "source": [
        "!pip install transformers torch sentencepiece\n",
        "!pip install googletrans==4.0.0-rc1"
      ],
      "metadata": {
        "colab": {
          "base_uri": "https://localhost:8080/"
        },
        "id": "zvOYy2_CjHvD",
        "outputId": "ab08ed21-0474-4618-b9b3-e15846313e29"
      },
      "execution_count": 28,
      "outputs": [
        {
          "output_type": "stream",
          "name": "stdout",
          "text": [
            "Requirement already satisfied: transformers in /usr/local/lib/python3.12/dist-packages (4.56.1)\n",
            "Requirement already satisfied: torch in /usr/local/lib/python3.12/dist-packages (2.8.0+cu126)\n",
            "Requirement already satisfied: sentencepiece in /usr/local/lib/python3.12/dist-packages (0.2.1)\n",
            "Requirement already satisfied: filelock in /usr/local/lib/python3.12/dist-packages (from transformers) (3.19.1)\n",
            "Requirement already satisfied: huggingface-hub<1.0,>=0.34.0 in /usr/local/lib/python3.12/dist-packages (from transformers) (0.34.4)\n",
            "Requirement already satisfied: numpy>=1.17 in /usr/local/lib/python3.12/dist-packages (from transformers) (2.0.2)\n",
            "Requirement already satisfied: packaging>=20.0 in /usr/local/lib/python3.12/dist-packages (from transformers) (25.0)\n",
            "Requirement already satisfied: pyyaml>=5.1 in /usr/local/lib/python3.12/dist-packages (from transformers) (6.0.2)\n",
            "Requirement already satisfied: regex!=2019.12.17 in /usr/local/lib/python3.12/dist-packages (from transformers) (2024.11.6)\n",
            "Requirement already satisfied: requests in /usr/local/lib/python3.12/dist-packages (from transformers) (2.32.4)\n",
            "Requirement already satisfied: tokenizers<=0.23.0,>=0.22.0 in /usr/local/lib/python3.12/dist-packages (from transformers) (0.22.0)\n",
            "Requirement already satisfied: safetensors>=0.4.3 in /usr/local/lib/python3.12/dist-packages (from transformers) (0.6.2)\n",
            "Requirement already satisfied: tqdm>=4.27 in /usr/local/lib/python3.12/dist-packages (from transformers) (4.67.1)\n",
            "Requirement already satisfied: typing-extensions>=4.10.0 in /usr/local/lib/python3.12/dist-packages (from torch) (4.15.0)\n",
            "Requirement already satisfied: setuptools in /usr/local/lib/python3.12/dist-packages (from torch) (75.2.0)\n",
            "Requirement already satisfied: sympy>=1.13.3 in /usr/local/lib/python3.12/dist-packages (from torch) (1.13.3)\n",
            "Requirement already satisfied: networkx in /usr/local/lib/python3.12/dist-packages (from torch) (3.5)\n",
            "Requirement already satisfied: jinja2 in /usr/local/lib/python3.12/dist-packages (from torch) (3.1.6)\n",
            "Requirement already satisfied: fsspec in /usr/local/lib/python3.12/dist-packages (from torch) (2025.3.0)\n",
            "Requirement already satisfied: nvidia-cuda-nvrtc-cu12==12.6.77 in /usr/local/lib/python3.12/dist-packages (from torch) (12.6.77)\n",
            "Requirement already satisfied: nvidia-cuda-runtime-cu12==12.6.77 in /usr/local/lib/python3.12/dist-packages (from torch) (12.6.77)\n",
            "Requirement already satisfied: nvidia-cuda-cupti-cu12==12.6.80 in /usr/local/lib/python3.12/dist-packages (from torch) (12.6.80)\n",
            "Requirement already satisfied: nvidia-cudnn-cu12==9.10.2.21 in /usr/local/lib/python3.12/dist-packages (from torch) (9.10.2.21)\n",
            "Requirement already satisfied: nvidia-cublas-cu12==12.6.4.1 in /usr/local/lib/python3.12/dist-packages (from torch) (12.6.4.1)\n",
            "Requirement already satisfied: nvidia-cufft-cu12==11.3.0.4 in /usr/local/lib/python3.12/dist-packages (from torch) (11.3.0.4)\n",
            "Requirement already satisfied: nvidia-curand-cu12==10.3.7.77 in /usr/local/lib/python3.12/dist-packages (from torch) (10.3.7.77)\n",
            "Requirement already satisfied: nvidia-cusolver-cu12==11.7.1.2 in /usr/local/lib/python3.12/dist-packages (from torch) (11.7.1.2)\n",
            "Requirement already satisfied: nvidia-cusparse-cu12==12.5.4.2 in /usr/local/lib/python3.12/dist-packages (from torch) (12.5.4.2)\n",
            "Requirement already satisfied: nvidia-cusparselt-cu12==0.7.1 in /usr/local/lib/python3.12/dist-packages (from torch) (0.7.1)\n",
            "Requirement already satisfied: nvidia-nccl-cu12==2.27.3 in /usr/local/lib/python3.12/dist-packages (from torch) (2.27.3)\n",
            "Requirement already satisfied: nvidia-nvtx-cu12==12.6.77 in /usr/local/lib/python3.12/dist-packages (from torch) (12.6.77)\n",
            "Requirement already satisfied: nvidia-nvjitlink-cu12==12.6.85 in /usr/local/lib/python3.12/dist-packages (from torch) (12.6.85)\n",
            "Requirement already satisfied: nvidia-cufile-cu12==1.11.1.6 in /usr/local/lib/python3.12/dist-packages (from torch) (1.11.1.6)\n",
            "Requirement already satisfied: triton==3.4.0 in /usr/local/lib/python3.12/dist-packages (from torch) (3.4.0)\n",
            "Requirement already satisfied: hf-xet<2.0.0,>=1.1.3 in /usr/local/lib/python3.12/dist-packages (from huggingface-hub<1.0,>=0.34.0->transformers) (1.1.9)\n",
            "Requirement already satisfied: mpmath<1.4,>=1.1.0 in /usr/local/lib/python3.12/dist-packages (from sympy>=1.13.3->torch) (1.3.0)\n",
            "Requirement already satisfied: MarkupSafe>=2.0 in /usr/local/lib/python3.12/dist-packages (from jinja2->torch) (3.0.2)\n",
            "Requirement already satisfied: charset_normalizer<4,>=2 in /usr/local/lib/python3.12/dist-packages (from requests->transformers) (3.4.3)\n",
            "Requirement already satisfied: idna<4,>=2.5 in /usr/local/lib/python3.12/dist-packages (from requests->transformers) (2.10)\n",
            "Requirement already satisfied: urllib3<3,>=1.21.1 in /usr/local/lib/python3.12/dist-packages (from requests->transformers) (2.5.0)\n",
            "Requirement already satisfied: certifi>=2017.4.17 in /usr/local/lib/python3.12/dist-packages (from requests->transformers) (2025.8.3)\n",
            "Requirement already satisfied: googletrans==4.0.0-rc1 in /usr/local/lib/python3.12/dist-packages (4.0.0rc1)\n",
            "Requirement already satisfied: httpx==0.13.3 in /usr/local/lib/python3.12/dist-packages (from googletrans==4.0.0-rc1) (0.13.3)\n",
            "Requirement already satisfied: certifi in /usr/local/lib/python3.12/dist-packages (from httpx==0.13.3->googletrans==4.0.0-rc1) (2025.8.3)\n",
            "Requirement already satisfied: hstspreload in /usr/local/lib/python3.12/dist-packages (from httpx==0.13.3->googletrans==4.0.0-rc1) (2025.1.1)\n",
            "Requirement already satisfied: sniffio in /usr/local/lib/python3.12/dist-packages (from httpx==0.13.3->googletrans==4.0.0-rc1) (1.3.1)\n",
            "Requirement already satisfied: chardet==3.* in /usr/local/lib/python3.12/dist-packages (from httpx==0.13.3->googletrans==4.0.0-rc1) (3.0.4)\n",
            "Requirement already satisfied: idna==2.* in /usr/local/lib/python3.12/dist-packages (from httpx==0.13.3->googletrans==4.0.0-rc1) (2.10)\n",
            "Requirement already satisfied: rfc3986<2,>=1.3 in /usr/local/lib/python3.12/dist-packages (from httpx==0.13.3->googletrans==4.0.0-rc1) (1.5.0)\n",
            "Requirement already satisfied: httpcore==0.9.* in /usr/local/lib/python3.12/dist-packages (from httpx==0.13.3->googletrans==4.0.0-rc1) (0.9.1)\n",
            "Requirement already satisfied: h11<0.10,>=0.8 in /usr/local/lib/python3.12/dist-packages (from httpcore==0.9.*->httpx==0.13.3->googletrans==4.0.0-rc1) (0.9.0)\n",
            "Requirement already satisfied: h2==3.* in /usr/local/lib/python3.12/dist-packages (from httpcore==0.9.*->httpx==0.13.3->googletrans==4.0.0-rc1) (3.2.0)\n",
            "Requirement already satisfied: hyperframe<6,>=5.2.0 in /usr/local/lib/python3.12/dist-packages (from h2==3.*->httpcore==0.9.*->httpx==0.13.3->googletrans==4.0.0-rc1) (5.2.0)\n",
            "Requirement already satisfied: hpack<4,>=3.0 in /usr/local/lib/python3.12/dist-packages (from h2==3.*->httpcore==0.9.*->httpx==0.13.3->googletrans==4.0.0-rc1) (3.0.0)\n"
          ]
        }
      ]
    },
    {
      "cell_type": "code",
      "metadata": {
        "colab": {
          "base_uri": "https://localhost:8080/"
        },
        "id": "f0069f86",
        "outputId": "bea7298e-95a8-43d7-8103-2f6f90c2e196"
      },
      "source": [
        "from googletrans import Translator\n",
        "from transformers import MarianMTModel, MarianTokenizer\n",
        "\n",
        "#Loading googletrans\n",
        "translator = Translator()\n",
        "print(\"GGtranslate Loaded!\")\n",
        "\n",
        "#Loading Helsinki-NLP Model\n",
        "fi2en_model_name = 'Helsinki-NLP/opus-mt-fi-en'\n",
        "fi2en_tokenizer = MarianTokenizer.from_pretrained(fi2en_model_name)\n",
        "fi2en_model = MarianMTModel.from_pretrained(fi2en_model_name)\n",
        "print(\"Helsinki Model Loaded!\")\n",
        "\n"
      ],
      "execution_count": 29,
      "outputs": [
        {
          "output_type": "stream",
          "name": "stdout",
          "text": [
            "GGtranslate Loaded!\n",
            "Helsinki Model Loaded!\n"
          ]
        }
      ]
    },
    {
      "cell_type": "code",
      "metadata": {
        "id": "7cb3739f"
      },
      "source": [
        "\n",
        "\n",
        "def hel_translate(text):\n",
        "  batch = fi2en_tokenizer(text, return_tensors = \"pt\", padding = True)\n",
        "  gen = fi2en_model.generate(**batch)\n",
        "  return fi2en_tokenizer.batch_decode(gen, skip_special_tokens = True)\n",
        "\n",
        "\n",
        "#Added throw and catch to handle unknown errors\n",
        "def gg_translate(text):\n",
        "  try:\n",
        "    result = translator.translate(text, src ='fi', dest = 'en')\n",
        "    if result and result.text:\n",
        "      translation = result.text\n",
        "      return translation\n",
        "    else:\n",
        "      print(f\"Google Translate returned an invalid result for: {text}\")\n",
        "      return f\"Translation failed: {text}\"\n",
        "  except Exception as e:\n",
        "    print(f\"Error translating with Google Translate: {e}\")\n",
        "    return f\"Translation failed: {text}\""
      ],
      "execution_count": 30,
      "outputs": []
    },
    {
      "cell_type": "code",
      "source": [
        "#Sample finnish to translate\n",
        "finnish_test_sentences = [\n",
        "    # 1. Simple, common phrase\n",
        "    \"Voitko auttaa minua tämän laukun kanssa?\",\n",
        "    # 2. News/Formal tone\n",
        "    \"Hallitus neuvottelee uusista rajoituksista huomenna.\",\n",
        "    # 3. Technical/Specific\n",
        "    \"Tietokoneen suorituskyky riippuu suuresti keskusmuistin määrästä.\",\n",
        "    # 4. Idiomatic expression\n",
        "    \"Älä nuolaise ennen kuin tipahtaa.\",\n",
        "    # 5. Question\n",
        "    \"Kuinka kauan matka Oulusta Helsinkiin kestää junalla?\",\n",
        "    # 6. Food/Restaurant context\n",
        "    \"Haluaisin tilata poronkäristystä perunamuusilla, kiitos.\",\n",
        "    # 7. Weather description\n",
        "    \"Tänään on kaunis syyspäivä, mutta illalla saattaa sataa räntää.\",\n",
        "    # 8. Opinion/Subjective\n",
        "    \"Mielestäni tämä elokuva oli hieman pettymys.\",\n",
        "    # 9. Complex sentence with a sub-clause\n",
        "    \"Vaikka opiskelu oli haastavaa, hän valmistui erinomaisin arvosanoin.\",\n",
        "    # 10. A more poetic, descriptive sentence\n",
        "    \"Revontulet tanssivat hiljaa pimeällä taivaalla pakkasyönä.\"\n",
        "]\n",
        "\n",
        "\n",
        "for sentence in finnish_test_sentences:\n",
        "\n",
        "  hel_trans = hel_translate(sentence)[0]\n",
        "  gg_trans = gg_translate(sentence)\n",
        "  print(\"\\n---------------------------------------------------------------------\")\n",
        "  print(\"Original Sentence:\\t| \", sentence)\n",
        "  print(\"Helsinki model:\\t\\t| \", hel_trans)\n",
        "  print(\"GG Translate:\\t\\t| \", gg_trans)"
      ],
      "metadata": {
        "colab": {
          "base_uri": "https://localhost:8080/"
        },
        "id": "lCnQ7Nl_s2Ul",
        "outputId": "0dddcfbf-bb72-4975-9ed6-af474110f38d"
      },
      "execution_count": 31,
      "outputs": [
        {
          "output_type": "stream",
          "name": "stdout",
          "text": [
            "\n",
            "---------------------------------------------------------------------\n",
            "Original Sentence:\t|  Voitko auttaa minua tämän laukun kanssa?\n",
            "Helsinki model:\t\t|  Can you help me with this bag?\n",
            "GG Translate:\t\t|  Can you help me with this bag?\n",
            "\n",
            "---------------------------------------------------------------------\n",
            "Original Sentence:\t|  Hallitus neuvottelee uusista rajoituksista huomenna.\n",
            "Helsinki model:\t\t|  The government is negotiating new restrictions tomorrow.\n",
            "GG Translate:\t\t|  The government will negotiate new restrictions tomorrow.\n",
            "\n",
            "---------------------------------------------------------------------\n",
            "Original Sentence:\t|  Tietokoneen suorituskyky riippuu suuresti keskusmuistin määrästä.\n",
            "Helsinki model:\t\t|  Computer performance depends greatly on the amount of central memory.\n",
            "GG Translate:\t\t|  The performance of the computer depends greatly on the amount of the main memory.\n",
            "\n",
            "---------------------------------------------------------------------\n",
            "Original Sentence:\t|  Älä nuolaise ennen kuin tipahtaa.\n",
            "Helsinki model:\t\t|  Don't lick until you drop.\n",
            "GG Translate:\t\t|  Do not lick until it drops.\n",
            "\n",
            "---------------------------------------------------------------------\n",
            "Original Sentence:\t|  Kuinka kauan matka Oulusta Helsinkiin kestää junalla?\n",
            "Helsinki model:\t\t|  How long will it take from Oulu to Helsinki by train?\n",
            "GG Translate:\t\t|  How long does the journey from Oulu to Helsinki take by train?\n",
            "\n",
            "---------------------------------------------------------------------\n",
            "Original Sentence:\t|  Haluaisin tilata poronkäristystä perunamuusilla, kiitos.\n",
            "Helsinki model:\t\t|  I'd like to order some reindeer fry with mashed potatoes, please.\n",
            "GG Translate:\t\t|  I would like to order reindeer with mashed potatoes, thank you.\n",
            "\n",
            "---------------------------------------------------------------------\n",
            "Original Sentence:\t|  Tänään on kaunis syyspäivä, mutta illalla saattaa sataa räntää.\n",
            "Helsinki model:\t\t|  It's a beautiful fall day, but it might rain in the evening.\n",
            "GG Translate:\t\t|  Today is a beautiful autumn day, but it may rain in the evening.\n",
            "\n",
            "---------------------------------------------------------------------\n",
            "Original Sentence:\t|  Mielestäni tämä elokuva oli hieman pettymys.\n",
            "Helsinki model:\t\t|  I think this film was a little disappointing.\n",
            "GG Translate:\t\t|  I think this movie was a bit disappointing.\n",
            "Error translating with Google Translate: 'NoneType' object is not iterable\n",
            "\n",
            "---------------------------------------------------------------------\n",
            "Original Sentence:\t|  Vaikka opiskelu oli haastavaa, hän valmistui erinomaisin arvosanoin.\n",
            "Helsinki model:\t\t|  Although studying was challenging, he graduated with excellent grades.\n",
            "GG Translate:\t\t|  Translation failed: Vaikka opiskelu oli haastavaa, hän valmistui erinomaisin arvosanoin.\n",
            "\n",
            "---------------------------------------------------------------------\n",
            "Original Sentence:\t|  Revontulet tanssivat hiljaa pimeällä taivaalla pakkasyönä.\n",
            "Helsinki model:\t\t|  The Northern Lights dance quietly in the dark sky as a freezer.\n",
            "GG Translate:\t\t|  The northern lights dance quietly in the dark sky on a frosty night.\n"
          ]
        }
      ]
    }
  ]
}